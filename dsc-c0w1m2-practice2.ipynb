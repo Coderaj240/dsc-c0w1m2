{
 "cells": [
  {
   "cell_type": "markdown",
   "id": "513dc3df-8a49-4712-b98c-1c3cb2625bcb",
   "metadata": {},
   "source": [
    "# Practice for CSV"
   ]
  },
  {
   "cell_type": "markdown",
   "id": "abc200e6-8ce2-44e8-bb56-e24bf7f319ff",
   "metadata": {},
   "source": [
    "1. Get the file Path for the Kings county dataset. Save it to a variable csv_file_path. Make sure you have the path to your data file. For this example, it is in the root folder of this repository."
   ]
  },
  {
   "cell_type": "code",
   "execution_count": 1,
   "id": "0ea6dc78-20e0-4a6e-82cc-58f65ff9f974",
   "metadata": {},
   "outputs": [],
   "source": [
    "csv_file_path = \"C:/Users/sushm/OneDrive/Desktop/Data_Flatiron/Chapter-2_Data_Type/dsc-c0w1m2/King_County_Real_Estate_Sales.csv\""
   ]
  },
  {
   "cell_type": "markdown",
   "id": "089ac9e8-3a01-41c3-85f0-bc388889070d",
   "metadata": {},
   "source": [
    "2. Import the csv module"
   ]
  },
  {
   "cell_type": "code",
   "execution_count": 2,
   "id": "5d77a877-06d5-40a5-927d-88f38ee8b11b",
   "metadata": {},
   "outputs": [],
   "source": [
    "import csv"
   ]
  },
  {
   "cell_type": "markdown",
   "id": "ae1af705-dc4e-458c-aa47-090ea24df0a6",
   "metadata": {},
   "source": [
    "3. Load the csv into a structure where each row is represented as a dictionary. Store it in a variable `data` and inspect the first element."
   ]
  },
  {
   "cell_type": "code",
   "execution_count": 3,
   "id": "ff737324-4c8b-4d87-a976-907fdf47ba2d",
   "metadata": {},
   "outputs": [
    {
     "data": {
      "text/plain": [
       "{'ExciseTaxNbr': '2687551',\n",
       " 'Major': '138860',\n",
       " 'Minor': '110',\n",
       " 'DocumentDate': '08/21/2014',\n",
       " 'SalePrice': '245000',\n",
       " 'RecordingNbr': '20140828001436',\n",
       " 'Volume': '   ',\n",
       " 'Page': '   ',\n",
       " 'PlatNbr': '      ',\n",
       " 'PlatType': ' ',\n",
       " 'PlatLot': '              ',\n",
       " 'PlatBlock': '       ',\n",
       " 'SellerName': 'WENKLE NOEL SMITH -TRUSTEE                        ',\n",
       " 'BuyerName': 'ALEXANDER APRIL                                   ',\n",
       " 'PropertyType': '3',\n",
       " 'PrincipalUse': '6',\n",
       " 'SaleInstrument': '3',\n",
       " 'AFForestLand': 'N',\n",
       " 'AFCurrentUseLand': 'N',\n",
       " 'AFNonProfitUse': 'N',\n",
       " 'AFHistoricProperty': 'N',\n",
       " 'SaleReason': '1',\n",
       " 'PropertyClass': '8',\n",
       " 'SaleWarning': ' '}"
      ]
     },
     "execution_count": 3,
     "metadata": {},
     "output_type": "execute_result"
    }
   ],
   "source": [
    "with open(csv_file_path) as csvfile:\n",
    "    reader = csv.DictReader(csvfile)\n",
    "    data = list(reader)\n",
    "\n",
    "\n",
    "data[0]"
   ]
  },
  {
   "cell_type": "markdown",
   "id": "ce7459d7-12b2-447c-95c6-49f82c0b5a13",
   "metadata": {},
   "source": [
    "4. There are a bunch of columns that should have numeric entries.\n",
    "- 'SalePrice' is quantiative\n",
    "- 'PropertyType', 'PrincipalUse', 'SaleInstrument' are integers encoding categoricals. These are types -- so this is an example of label encoding a nominal categorical.\n",
    "- 'PropertyClass' is an ordinal encoding the quality and condition of a property.\n",
    "\n",
    "'ExciseTaxNbr' is a unique identifiers for a row. \n",
    "\n",
    "Convert all of these columns that are currently strings to their appropriate datatype.\n"
   ]
  },
  {
   "cell_type": "code",
   "execution_count": 4,
   "id": "9a9dba40-f7ea-4567-b075-6191ccb994a3",
   "metadata": {},
   "outputs": [
    {
     "data": {
      "text/plain": [
       "{'ExciseTaxNbr': 2687551,\n",
       " 'Major': '138860',\n",
       " 'Minor': '110',\n",
       " 'DocumentDate': '08/21/2014',\n",
       " 'SalePrice': 245000,\n",
       " 'RecordingNbr': '20140828001436',\n",
       " 'Volume': '   ',\n",
       " 'Page': '   ',\n",
       " 'PlatNbr': '      ',\n",
       " 'PlatType': ' ',\n",
       " 'PlatLot': '              ',\n",
       " 'PlatBlock': '       ',\n",
       " 'SellerName': 'WENKLE NOEL SMITH -TRUSTEE                        ',\n",
       " 'BuyerName': 'ALEXANDER APRIL                                   ',\n",
       " 'PropertyType': 3,\n",
       " 'PrincipalUse': 6,\n",
       " 'SaleInstrument': 3,\n",
       " 'AFForestLand': 'N',\n",
       " 'AFCurrentUseLand': 'N',\n",
       " 'AFNonProfitUse': 'N',\n",
       " 'AFHistoricProperty': 'N',\n",
       " 'SaleReason': 1,\n",
       " 'PropertyClass': 8,\n",
       " 'SaleWarning': ' '}"
      ]
     },
     "execution_count": 4,
     "metadata": {},
     "output_type": "execute_result"
    }
   ],
   "source": [
    "for row in data:\n",
    "    row['SalePrice'] = int(row['SalePrice'])\n",
    "    row['PropertyType'] = int(row['PropertyType'])\n",
    "    row['PrincipalUse'] = int(row['PrincipalUse'])\n",
    "    row['SaleInstrument'] = int(row['SaleInstrument'])\n",
    "    row['SaleReason'] = int(row['SaleReason'])\n",
    "    row['PropertyClass'] = int(row['PropertyClass'])\n",
    "\n",
    "\n",
    "    row['ExciseTaxNbr'] = int(row['ExciseTaxNbr'] )\n",
    "\n",
    "\n",
    "data[0]"
   ]
  },
  {
   "cell_type": "markdown",
   "id": "75989662-9261-49de-8a6b-d5e88ae43d74",
   "metadata": {},
   "source": [
    "5. Clean the buyer and seller name strings by removing whitespace:"
   ]
  },
  {
   "cell_type": "code",
   "execution_count": 5,
   "id": "fc20368b-6783-4416-8faa-9d48dd0658b8",
   "metadata": {},
   "outputs": [
    {
     "data": {
      "text/plain": [
       "{'ExciseTaxNbr': 2687551,\n",
       " 'Major': '138860',\n",
       " 'Minor': '110',\n",
       " 'DocumentDate': '08/21/2014',\n",
       " 'SalePrice': 245000,\n",
       " 'RecordingNbr': '20140828001436',\n",
       " 'Volume': '   ',\n",
       " 'Page': '   ',\n",
       " 'PlatNbr': '      ',\n",
       " 'PlatType': ' ',\n",
       " 'PlatLot': '              ',\n",
       " 'PlatBlock': '       ',\n",
       " 'SellerName': 'WENKLE NOEL SMITH -TRUSTEE',\n",
       " 'BuyerName': 'ALEXANDER APRIL',\n",
       " 'PropertyType': 3,\n",
       " 'PrincipalUse': 6,\n",
       " 'SaleInstrument': 3,\n",
       " 'AFForestLand': 'N',\n",
       " 'AFCurrentUseLand': 'N',\n",
       " 'AFNonProfitUse': 'N',\n",
       " 'AFHistoricProperty': 'N',\n",
       " 'SaleReason': 1,\n",
       " 'PropertyClass': 8,\n",
       " 'SaleWarning': ' '}"
      ]
     },
     "execution_count": 5,
     "metadata": {},
     "output_type": "execute_result"
    }
   ],
   "source": [
    "for row in data:\n",
    "    row['BuyerName'] = row['BuyerName'].strip()\n",
    "    row['SellerName'] = row['SellerName'].strip()\n",
    "\n",
    "\n",
    "data[0]"
   ]
  },
  {
   "cell_type": "markdown",
   "id": "5e051c23-f954-4024-be81-dba693a8a560",
   "metadata": {},
   "source": [
    "6. Create new columns for the month, day, and year of the sale transaction and include these in the dataset. Save these into `Month`, `Day`, and `Year` columns. Represent these as numbers of the correct type."
   ]
  },
  {
   "cell_type": "code",
   "execution_count": 6,
   "id": "7fa0ea0c-ff2a-4747-b56b-e16d0d20cbd6",
   "metadata": {},
   "outputs": [
    {
     "data": {
      "text/plain": [
       "{'ExciseTaxNbr': 2687551,\n",
       " 'Major': '138860',\n",
       " 'Minor': '110',\n",
       " 'DocumentDate': '08/21/2014',\n",
       " 'SalePrice': 245000,\n",
       " 'RecordingNbr': '20140828001436',\n",
       " 'Volume': '   ',\n",
       " 'Page': '   ',\n",
       " 'PlatNbr': '      ',\n",
       " 'PlatType': ' ',\n",
       " 'PlatLot': '              ',\n",
       " 'PlatBlock': '       ',\n",
       " 'SellerName': 'WENKLE NOEL SMITH -TRUSTEE',\n",
       " 'BuyerName': 'ALEXANDER APRIL',\n",
       " 'PropertyType': 3,\n",
       " 'PrincipalUse': 6,\n",
       " 'SaleInstrument': 3,\n",
       " 'AFForestLand': 'N',\n",
       " 'AFCurrentUseLand': 'N',\n",
       " 'AFNonProfitUse': 'N',\n",
       " 'AFHistoricProperty': 'N',\n",
       " 'SaleReason': 1,\n",
       " 'PropertyClass': 8,\n",
       " 'SaleWarning': ' ',\n",
       " 'Month': 8,\n",
       " 'Day': 21,\n",
       " 'Year': 2014}"
      ]
     },
     "execution_count": 6,
     "metadata": {},
     "output_type": "execute_result"
    }
   ],
   "source": [
    "for row in data:\n",
    "    mmddyy_list = row['DocumentDate'].split('/')\n",
    "    row['Month'], row['Day'], row['Year'] = int(mmddyy_list[0]),int(mmddyy_list[1]), int(mmddyy_list[2])\n",
    "\n",
    "\n",
    "data[0]"
   ]
  },
  {
   "cell_type": "markdown",
   "id": "f532b3c7-45e5-4240-9f2a-ea3bffc87411",
   "metadata": {},
   "source": [
    "7. For the column 'AFHistoricProperty': cast 'Y' and 'N' as booleans."
   ]
  },
  {
   "cell_type": "code",
   "execution_count": 7,
   "id": "75210b4f-8535-4ee6-9e75-b66ee1a818ad",
   "metadata": {},
   "outputs": [],
   "source": [
    "for row in data:\n",
    "\n",
    "\n",
    "    if row['AFHistoricProperty'] == 'N':\n",
    "        row['AFHistoricProperty'] = False\n",
    "    elif row['AFHistoricProperty'] == 'Y':\n",
    "        row['AFHistoricProperty'] = True"
   ]
  },
  {
   "cell_type": "markdown",
   "id": "3d6b8ede-774d-4ecb-8e3a-49c764a4845f",
   "metadata": {},
   "source": [
    "8. We are only interested in using the data we have just cleaned for our analysis. Create a new version of our dataset with just the columns we \n",
    "cleaned. Save this to a variable called `cleaned_data`. For your convenience we have created a list of the columns to be extracted.\n",
    "\n",
    "col_list = ['ExciseTaxNbr', 'Month', 'Day', 'Year', 'SalePrice', 'PropertyType', 'PropertyClass', 'PrincipalUse', 'SaleInstrument', 'SaleReason', 'AFHistoricProperty']"
   ]
  },
  {
   "cell_type": "code",
   "execution_count": 8,
   "id": "aa072fce-896d-4c3f-a793-bab8ff2fa04c",
   "metadata": {},
   "outputs": [],
   "source": [
    "col_list = ['ExciseTaxNbr', 'Month', 'Day', 'Year', 'SalePrice', 'PropertyType', 'PropertyClass', 'PrincipalUse', 'SaleInstrument', 'SaleReason', 'AFHistoricProperty']\n",
    "\n",
    "\n",
    "cleaned_data = []\n",
    "for row in data:\n",
    "  # Create a new dictionary to store cleaned data\n",
    "  cleaned_row = {}\n",
    "  for col in col_list:\n",
    "    # Include only columns from the list and handle potential missing values\n",
    "    cleaned_row[col] = row.get(col)  # Use get() to avoid KeyError for missing columns\n",
    "  # Append the cleaned dictionary to the cleaned_data list\n",
    "  cleaned_data.append(cleaned_row)"
   ]
  },
  {
   "cell_type": "markdown",
   "id": "de5274db-b2f2-4567-be17-d9d7f0ca8dae",
   "metadata": {},
   "source": [
    "9. Save this dictionary to a  new csv called `cleaned_data.csv`. Use the `csv` DictWriter to do this."
   ]
  },
  {
   "cell_type": "code",
   "execution_count": 9,
   "id": "2d4677dc-90d5-4206-b767-98edcc40fc6e",
   "metadata": {},
   "outputs": [],
   "source": [
    " with open('cleaned_data.csv', 'w') as f:\n",
    "    csv.DictWriter(f, cleaned_data)"
   ]
  }
 ],
 "metadata": {
  "kernelspec": {
   "display_name": "Python [conda env:base] *",
   "language": "python",
   "name": "conda-base-py"
  },
  "language_info": {
   "codemirror_mode": {
    "name": "ipython",
    "version": 3
   },
   "file_extension": ".py",
   "mimetype": "text/x-python",
   "name": "python",
   "nbconvert_exporter": "python",
   "pygments_lexer": "ipython3",
   "version": "3.12.7"
  }
 },
 "nbformat": 4,
 "nbformat_minor": 5
}
