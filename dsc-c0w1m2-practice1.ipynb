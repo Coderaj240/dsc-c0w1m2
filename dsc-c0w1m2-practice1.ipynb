{
 "cells": [
  {
   "cell_type": "markdown",
   "metadata": {},
   "source": [
    "# Practice Lab for Types of Data"
   ]
  },
  {
   "cell_type": "markdown",
   "metadata": {},
   "source": [
    "You are given a record of dogs that have visited a small vet clinic in the past few hours. The clinic is currently very busy. There is a new virus that turns some dogs (who are usually by default all good boys and girls) into bad doggies. Also a very nasty doggy flu has been going around at the same time. \n",
    "\n",
    "* Given the situation, data entry has been rushed and there are some inconsistencies that need to be addressed and type conversion you will need to do to get the data into your organization's standard. \n",
    "* Your direct manager (who is not a data person) is European and wants the dog length to be converted to metric because he thinks that the inch is a preposterous unit of measurement.\n",
    "* The head veterinarian wants a flagging system for dogs that come in running a fever.\n",
    "\n",
    "\n",
    "You, the only data analyst at this small clinic, have been assigned these tasks. Exercise your knowledge of string cleaning, mathematical operations on numeric quantities, and booleans in order to complete the work.\n"
   ]
  },
  {
   "cell_type": "code",
   "execution_count": 3,
   "metadata": {},
   "outputs": [],
   "source": [
    "# load data given to you\n",
    "dog_data = [['Name', 'Breed', 'Good Doggy?', 'Length [in]', 'Weight Range', 'Body Temp [F]'],\n",
    "    [\"Buddy\", \"Golden Retriever\", \"Good\", 24, 'Overweight', 101.5],\n",
    "    [\"Cooper\", \"Doberman Pinscher\", \"Bad\", 28, 'Normal',  105.2],\n",
    "    [\"Max\", \"GERMAN Shepherd\", \"Good\", 26, 'Normal', 100.2],\n",
    "    [\"Bella\", \"Chow Chow\", \"Bad\", 20, 'Normal', 100.5],\n",
    "    [\"Lucy\", \" Yorkshire Terrier\", \"Good\", 9, 'Normal', 102.0],\n",
    "    [\"Charlie\", \"Beagle\", \"Good\", 13, 'Overweight', 100.4],\n",
    "    [\"Daisy\", \"Akita\", \"Bad\", 24, 'Normal',99.8],\n",
    "    [\"Bailey\", \"JACK russell terrier\", \"Bad\", 10, 'Underweight', 101.2],\n",
    "    [\"Lola\", \"Rottweiler   \", \"Good\", 27, 'Normal', 102.5],\n",
    "    [\"Sadie\", \"Siberian_Husky\", \"Bad\", 23, 'Normal', 99.5],\n",
    "    [\"Penny\", \"STANDARD Poodle\", \"Good\", 18, 'Underweight', 100.7],\n",
    "    [\"Bruno\", \"Bulldog\", \"Bad\", 14, 'Normal', 104.1],\n",
    "    [\"Rosie\", \"Beagle\", \"Good\", 13, 'Normal', 100.6],\n",
    "    [\"Duke\", \"    DOBERMAN PINSCHER\", \"Good\", 28,  'Normal',100.1],\n",
    "    [\"Luna\", \"Shiba Inu\", \"Good\", 17, 'Obese',  100.3],\n",
    "    [\"Scout\", \"Golden_Retriever\", \"Good\", 22, 'Normal', 103.5],\n",
    "    [\"Rex\", \"Rottweiler\", \"Bad\", 23, 'Normal', 100.2],\n",
    "]"
   ]
  },
  {
   "cell_type": "markdown",
   "metadata": {},
   "source": [
    "### Instructions"
   ]
  },
  {
   "cell_type": "markdown",
   "metadata": {},
   "source": [
    "1. Write a clean_string function that takes in a string and removes leading/trailing spaces, replaces underscores with spaces, and capitalizes the first letter of each word. Use this function to replace the values in the 'Breed' column with the new cleaned values."
   ]
  },
  {
   "cell_type": "code",
   "execution_count": 6,
   "metadata": {},
   "outputs": [],
   "source": [
    "# Function to clean strings (remove whitespace, replace '_' with spaces, capitalize words)\n",
    "# uses method chaining\n",
    "def clean_string(text):\n",
    "  return text.strip().replace(\"_\", \" \").title()\n",
    "\n",
    "\n",
    "for row in dog_data[1::]:\n",
    "    row[1] = clean_string(row[1])"
   ]
  },
  {
   "cell_type": "markdown",
   "metadata": {},
   "source": [
    "2. Transform lengths from inches to centimeters."
   ]
  },
  {
   "cell_type": "code",
   "execution_count": 7,
   "metadata": {},
   "outputs": [],
   "source": [
    "for row in dog_data[1::]:\n",
    "    row[1] = row[3] * 2.54 # conversion from in to cm.\n",
    "\n",
    "\n",
    "dog_data[0][3] = 'Length [cm]'"
   ]
  },
  {
   "cell_type": "markdown",
   "metadata": {},
   "source": [
    "3. Convert Good/Bad doggy column to boolean"
   ]
  },
  {
   "cell_type": "code",
   "execution_count": 8,
   "metadata": {},
   "outputs": [],
   "source": [
    " for i, row in enumerate(dog_data):\n",
    "    if i > 0:\n",
    "        row[2] = (row[2] == 'Good')"
   ]
  },
  {
   "cell_type": "markdown",
   "metadata": {},
   "source": [
    "4. Convert the ‘Weight’ column to an integer representation."
   ]
  },
  {
   "cell_type": "code",
   "execution_count": 9,
   "metadata": {},
   "outputs": [],
   "source": [
    "# the weight column is clearly an ordinal categorical\n",
    "# we create a dictionary and then map it to integers accordingly\n",
    "\n",
    "\n",
    "value_mapper = {'Underweight': 0, 'Normal': 1, 'Overweight': 2, 'Obese': 3}\n",
    "\n",
    "\n",
    "for i, row in enumerate(dog_data):\n",
    "    if i > 0:\n",
    "        row[4] = value_mapper[row[4]] # get the integer value corresponding to the ordinal categorical and reassign entry"
   ]
  },
  {
   "cell_type": "markdown",
   "metadata": {},
   "source": [
    "5. Create a new column called Has_Fever. The value should yield 0 if a dog has normal body temperature and 1 if a dog is running a fever. A dog should be flagged as having a fever if their body temperature is above 102 F."
   ]
  },
  {
   "cell_type": "markdown",
   "metadata": {},
   "source": [
    "for i, row in enumerate(dog_data):\n",
    "    if i == 0:\n",
    "       row.append('Has_Fever')\n",
    "    else:\n",
    "       # check condition on body temp\n",
    "       row.append(row[-1] > 102) # get Boolean then append to row"
   ]
  },
  {
   "cell_type": "markdown",
   "metadata": {},
   "source": [
    "6. Run cell to display all changes you have made."
   ]
  },
  {
   "cell_type": "code",
   "execution_count": 10,
   "metadata": {},
   "outputs": [
    {
     "data": {
      "text/plain": [
       "[['Name',\n",
       "  'Breed',\n",
       "  'Good Doggy?',\n",
       "  'Length [cm]',\n",
       "  'Weight Range',\n",
       "  'Body Temp [F]'],\n",
       " ['Buddy', 60.96, True, 24, 2, 101.5],\n",
       " ['Cooper', 71.12, False, 28, 1, 105.2],\n",
       " ['Max', 66.04, True, 26, 1, 100.2],\n",
       " ['Bella', 50.8, False, 20, 1, 100.5],\n",
       " ['Lucy', 22.86, True, 9, 1, 102.0],\n",
       " ['Charlie', 33.02, True, 13, 2, 100.4],\n",
       " ['Daisy', 60.96, False, 24, 1, 99.8],\n",
       " ['Bailey', 25.4, False, 10, 0, 101.2],\n",
       " ['Lola', 68.58, True, 27, 1, 102.5],\n",
       " ['Sadie', 58.42, False, 23, 1, 99.5],\n",
       " ['Penny', 45.72, True, 18, 0, 100.7],\n",
       " ['Bruno', 35.56, False, 14, 1, 104.1],\n",
       " ['Rosie', 33.02, True, 13, 1, 100.6],\n",
       " ['Duke', 71.12, True, 28, 1, 100.1],\n",
       " ['Luna', 43.18, True, 17, 3, 100.3],\n",
       " ['Scout', 55.88, True, 22, 1, 103.5],\n",
       " ['Rex', 58.42, False, 23, 1, 100.2]]"
      ]
     },
     "execution_count": 10,
     "metadata": {},
     "output_type": "execute_result"
    }
   ],
   "source": [
    "dog_data"
   ]
  }
 ],
 "metadata": {
  "kernelspec": {
   "display_name": "Python [conda env:base] *",
   "language": "python",
   "name": "conda-base-py"
  },
  "language_info": {
   "codemirror_mode": {
    "name": "ipython",
    "version": 3
   },
   "file_extension": ".py",
   "mimetype": "text/x-python",
   "name": "python",
   "nbconvert_exporter": "python",
   "pygments_lexer": "ipython3",
   "version": "3.12.7"
  }
 },
 "nbformat": 4,
 "nbformat_minor": 4
}
